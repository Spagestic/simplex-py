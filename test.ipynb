{
 "cells": [
  {
   "cell_type": "code",
   "execution_count": 1,
   "metadata": {},
   "outputs": [],
   "source": [
    "import numpy as np"
   ]
  },
  {
   "cell_type": "code",
   "execution_count": 2,
   "metadata": {},
   "outputs": [],
   "source": [
    "from all_in_one import tabular_simplex, dual_simplex"
   ]
  },
  {
   "cell_type": "markdown",
   "metadata": {},
   "source": [
    "## Functions"
   ]
  },
  {
   "cell_type": "code",
   "execution_count": 3,
   "metadata": {},
   "outputs": [],
   "source": [
    "# import numpy as np\n",
    "\n",
    "# def is_dual_feasible(tableau):\n",
    "#     # Check if all RHS values (excluding the objective row) are non-negative\n",
    "#     return np.all(tableau[1:, -1] >= 0)\n",
    "\n",
    "# def dual_simplex(tableau, num_original_vars, num_constraints, problem_type='max', verbose=True):\n",
    "#     iteration = 0\n",
    "#     while True:\n",
    "#         iteration += 1\n",
    "#         if verbose:\n",
    "#             print_tableau(tableau, iteration, title=\"Dual Simplex Tableau\")\n",
    "\n",
    "#         if is_dual_feasible(tableau):\n",
    "#             if verbose:\n",
    "#                 print(\"Dual feasible solution found.\")\n",
    "#             optimal_solution, optimal_objective_value = extract_solution(tableau, num_original_vars, num_constraints, problem_type)\n",
    "#             if verbose:\n",
    "#                 print(\"Optimal solution:\", np.round(optimal_solution, 3))\n",
    "#                 print(\"Optimal objective value:\", round(optimal_objective_value, 3))\n",
    "#             return 'optimal', optimal_solution, optimal_objective_value\n",
    "\n",
    "#         # Select leaving variable (row with the most negative RHS)\n",
    "#         leaving_row = select_leaving_variable_dual(tableau)\n",
    "#         if leaving_row is None:\n",
    "#             if verbose:\n",
    "#                 print(\"Problem is infeasible (no leaving variable found).\")\n",
    "#             return 'infeasible', None, None\n",
    "\n",
    "#         if verbose:\n",
    "#             print(f\"Leaving variable: Row {leaving_row}\")\n",
    "\n",
    "#         # Select entering variable (column with the minimum ratio)\n",
    "#         entering_col = select_entering_variable_dual(tableau, leaving_row)\n",
    "#         if entering_col is None:\n",
    "#             if verbose:\n",
    "#                 print(\"Problem is unbounded (no entering variable found).\")\n",
    "#             return 'unbounded', None, None\n",
    "\n",
    "#         if verbose:\n",
    "#             print(f\"Entering variable: Column {entering_col}\")\n",
    "\n",
    "#         # Pivot\n",
    "#         tableau = pivot(tableau, entering_col, leaving_row)\n",
    "\n",
    "# def select_leaving_variable_dual(tableau):\n",
    "#     rhs = tableau[1:, -1]\n",
    "#     leaving_row = np.argmin(rhs) + 1  # +1 to offset the objective row\n",
    "#     if rhs[leaving_row -1] >= 0: # Check if the most negative RHS is non-negative. If so, the solution is dual feasible.\n",
    "#         return None\n",
    "#     return leaving_row\n",
    "\n",
    "# def select_entering_variable_dual(tableau, leaving_row):\n",
    "#     ratios = []\n",
    "#     for j in range(tableau.shape[1] - 1):\n",
    "#         if tableau[leaving_row, j] < 0:\n",
    "#             ratios.append(tableau[0, j] / abs(tableau[leaving_row, j]))\n",
    "#         else:\n",
    "#             ratios.append(np.inf)\n",
    "\n",
    "#     if np.all(np.isinf(ratios)):  # Check if all ratios are infinite\n",
    "#         return None\n",
    "#     return np.argmin(ratios)\n",
    "\n",
    "# def print_tableau(tableau, iteration=None):\n",
    "#     if iteration is not None:\n",
    "#         print(f\"\\n--- Iteration {iteration} ---\")\n",
    "#     print(\"Current Tableau:\")\n",
    "#     # Print a rounded copy of the tableau for easier reading\n",
    "#     print(np.array_str(tableau, precision=3, suppress_small=True))\n",
    "#     print(\"-\" * 50)\n",
    "\n",
    "# def tabular_simplex(objective_coeffs, constraint_matrix, rhs_values, senses, problem_type='max', verbose=True):\n",
    "#     num_constraints, num_original_vars = constraint_matrix.shape\n",
    "\n",
    "#     # Transform constraints if needed (e.g., converting '>=' constraints into '<=' constraints)\n",
    "#     transformed_constraint_matrix, transformed_rhs_values = transform_constraints(constraint_matrix, rhs_values, senses)\n",
    "#     tableau = setup_tableau(objective_coeffs, transformed_constraint_matrix, transformed_rhs_values, senses, problem_type)\n",
    "\n",
    "#     if verbose:\n",
    "#         print(\"\\nInitial Tableau:\")\n",
    "#         print_tableau(tableau)\n",
    "#         print(\"Explanation: We reach the solution when all coefficients in the objective row (first row) \"\n",
    "#               \"are nonnegative. This means that no further improvements (increase in the choice variable) can \"\n",
    "#               \"be achieved.\")\n",
    "\n",
    "#     # Initial infeasibility check (e.g., checking artificial variables)\n",
    "#     status = check_infeasibility(tableau, num_original_vars, senses, num_constraints)\n",
    "#     if status == 'infeasible':\n",
    "#         if verbose:\n",
    "#             print(\"The problem is infeasible at the initial tableau.\")\n",
    "#         return status, None, None\n",
    "\n",
    "#     iteration = 0\n",
    "#     while True:\n",
    "#         iteration += 1\n",
    "\n",
    "#         if verbose:\n",
    "#             print_tableau(tableau, iteration)\n",
    "        \n",
    "#         # Check the optimality condition: If all coefficients in the objective row (except RHS) are nonnegative,\n",
    "#         # then the current solution is optimal.\n",
    "#         if np.all(tableau[0, :-1] >= 0):\n",
    "#             if verbose:\n",
    "#                 print(\"All coefficients in the objective row are now nonnegative.\")\n",
    "#                 print(\"Explanation: No further improvement is possible so the current solution is optimal.\")\n",
    "#             optimal_solution, optimal_objective_value = extract_solution(tableau, num_original_vars, num_constraints, problem_type)\n",
    "#             if np.any(np.dot(transformed_constraint_matrix, optimal_solution) > transformed_rhs_values + 1e-6):\n",
    "#                 if verbose:\n",
    "#                     print(\"After checking, there is a violation in the constraints (infeasible basic variable)!\")\n",
    "#                 return 'infeasible', None, None\n",
    "#             if verbose:\n",
    "#                 print(\"Optimal solution reached!\")\n",
    "#                 print(\"Solution:\", np.round(optimal_solution, 3))\n",
    "#                 print(\"Objective value:\", round(optimal_objective_value, 3))\n",
    "#             return 'optimal', optimal_solution, optimal_objective_value\n",
    "\n",
    "#         # Select entering variable: the variable with the most negative coefficient in the objective row.\n",
    "#         entering_col_index = select_entering_variable(tableau)\n",
    "#         if verbose:\n",
    "#             print(f\"Entering variable (most negative coefficient) is at column index: {entering_col_index}\")\n",
    "#             print(f\"Coefficient value for entering variable: {tableau[0, entering_col_index]:.3f}\")\n",
    "\n",
    "#         # Calculate ratios to determine the leaving variable.\n",
    "#         ratios = calculate_ratios(tableau, entering_col_index)\n",
    "#         if verbose:\n",
    "#             print(\"Calculating ratios for the pivot operation (RHS divided by pivot column coefficient):\")\n",
    "#             for idx, ratio in enumerate(ratios, start=1):\n",
    "#                 if tableau[idx, entering_col_index] > 0:\n",
    "#                     print(f\"Row {idx}: RHS = {tableau[idx, -1]:.3f}, Coefficient = {tableau[idx, entering_col_index]:.3f}, Ratio = {tableau[idx, -1]:.3f} / {tableau[idx, entering_col_index]:.3f} = {ratio:.3f}\")\n",
    "#                 else:\n",
    "#                     print(f\"Row {idx}: Coefficient = {tableau[idx, entering_col_index]:.3f} (Not eligible for pivot, ratio = inf)\")\n",
    "                    \n",
    "#         # Select leaving variable based on the minimum ratio rule.\n",
    "#         leaving_row = select_leaving_variable(tableau, entering_col_index)\n",
    "#         if leaving_row is None:\n",
    "#             if verbose:\n",
    "#                 print(\"No valid leaving variable found (all ratios are infinite). The problem is unbounded!\")\n",
    "#             return 'unbounded', None, None\n",
    "\n",
    "#         if verbose:\n",
    "#             print(f\"Leaving variable (minimum ratio) is at row index: {leaving_row}\")\n",
    "\n",
    "#         # Perform the pivot operation.\n",
    "#         tableau = pivot(tableau, entering_col_index, leaving_row)\n",
    "#         if verbose:\n",
    "#             print(\"After pivot operation, the tableau is updated as follows:\")\n",
    "#             print_tableau(tableau, iteration)\n",
    "\n",
    "# def check_infeasibility(tableau, num_original_vars, senses, num_constraints):\n",
    "#     # This check looks for artificial basic variables with nonzero values.\n",
    "#     num_slack_vars = senses.count('<=')\n",
    "#     artificial_vars_start = num_original_vars + num_slack_vars\n",
    "\n",
    "#     for i in range(num_constraints):\n",
    "#         basic_variable_cols = np.where(tableau[i+1, :num_original_vars + num_slack_vars + num_constraints] == 1)[0]\n",
    "#         if len(basic_variable_cols) > 0:\n",
    "#             basic_var = basic_variable_cols[0]\n",
    "#             if basic_var >= artificial_vars_start and tableau[i+1, -1] != 0:\n",
    "#                 return 'infeasible'\n",
    "#     return None\n",
    "\n",
    "# def select_entering_variable(tableau):\n",
    "#     # Identify the most negative coefficient in the objective row (excluding the RHS).\n",
    "#     return np.argmin(tableau[0, :-1])\n",
    "\n",
    "# def calculate_ratios(tableau, entering_col_index):\n",
    "#     ratios = []\n",
    "#     # Compute ratios for each constraint (row 1 and onward)\n",
    "#     for i in range(1, tableau.shape[0]):\n",
    "#         if tableau[i, entering_col_index] > 0:\n",
    "#             ratios.append(tableau[i, -1] / tableau[i, entering_col_index])\n",
    "#         else:\n",
    "#             ratios.append(np.inf)\n",
    "#     return np.array(ratios)\n",
    "\n",
    "# def select_leaving_variable(tableau, entering_col_index):\n",
    "#     ratios = calculate_ratios(tableau, entering_col_index)\n",
    "#     if np.all(ratios == np.inf):\n",
    "#         return None\n",
    "#     # Add one because the first row is the objective function\n",
    "#     return np.argmin(ratios) + 1\n",
    "\n",
    "# def pivot(tableau, entering_col_index, leaving_row):\n",
    "#     print(\"The pivot element is the element at the intersection of the leaving row and the entering column.\")\n",
    "#     pivot_element = tableau[leaving_row, entering_col_index]\n",
    "#     print(f\"Pivot Element: Tableau[{leaving_row}, {entering_col_index}] = {pivot_element:.3f}\")\n",
    "\n",
    "#     print(f\"Dividing row {leaving_row} by pivot element {pivot_element:.3f}\")\n",
    "#     tableau[leaving_row, :] = tableau[leaving_row, :] / pivot_element\n",
    "\n",
    "#     print(\"Updated Tableau after dividing leaving row:\")\n",
    "#     print(np.array_str(tableau, precision=3, suppress_small=True))\n",
    "\n",
    "\n",
    "#     for i in range(tableau.shape[0]):\n",
    "#         if i != leaving_row:\n",
    "#             factor = tableau[i, entering_col_index]\n",
    "#             print(f\"Eliminating variable in row {i} using factor {factor:.3f}\")\n",
    "#             tableau[i, :] -= factor * tableau[leaving_row, :]\n",
    "#             print(f\"Updated Tableau after eliminating row {i}:\")\n",
    "#             print(np.array_str(tableau, precision=3, suppress_small=True))\n",
    "\n",
    "#     return tableau\n",
    "\n",
    "# def setup_tableau(objective_coeffs, constraint_matrix, rhs_values, senses, problem_type='max'):\n",
    "#     num_constraints, num_original_vars = constraint_matrix.shape\n",
    "\n",
    "#     if problem_type == 'min':\n",
    "#         # Convert minimization to maximization by negating the objective coefficients.\n",
    "#         objective_coeffs = -objective_coeffs\n",
    "\n",
    "#     num_slack_vars = senses.count('<=')\n",
    "#     num_surplus_vars = senses.count('>=')\n",
    "#     num_artificial_vars = senses.count('=') + num_surplus_vars\n",
    "#     num_total_vars = num_original_vars + num_slack_vars + num_artificial_vars\n",
    "\n",
    "#     tableau = np.zeros((num_constraints + 1, num_total_vars + 1))\n",
    "#     tableau[0, :num_original_vars] = -objective_coeffs  # Negate objective coefficients here\n",
    "\n",
    "#     slack_surplus_index = num_original_vars\n",
    "#     artificial_index = num_original_vars + num_slack_vars + num_surplus_vars\n",
    "#     for i in range(num_constraints):\n",
    "#         tableau[i + 1, :num_original_vars] = constraint_matrix[i, :]\n",
    "#         tableau[i + 1, -1] = rhs_values[i]\n",
    "\n",
    "#         if senses[i] == '<=':\n",
    "#             tableau[i + 1, slack_surplus_index] = 1\n",
    "#             slack_surplus_index += 1\n",
    "#         elif senses[i] == '>=' or senses[i] == '=':\n",
    "#             # For '>=' or '=' constraints, add an artificial variable to help find a basic feasible solution.\n",
    "#             tableau[i + 1, artificial_index - num_surplus_vars] = 1\n",
    "#             artificial_index += 1\n",
    "#             if senses[i] == '>=':\n",
    "#                 # Also add a surplus variable (which will have a negative sign)\n",
    "#                 tableau[i + 1, slack_surplus_index] = -1\n",
    "#                 slack_surplus_index += 1\n",
    "#     return tableau\n",
    "\n",
    "# def extract_solution(tableau, num_original_vars, num_constraints, problem_type='max'):\n",
    "#     optimal_solution = np.zeros(num_original_vars)\n",
    "#     # Look through each original variable column to see if it's a basic variable.\n",
    "#     for i in range(num_original_vars):\n",
    "#         column = tableau[:, i]\n",
    "#         if np.sum(np.abs(column)) == 1 and np.count_nonzero(column == 1) == 1:\n",
    "#             basic_variable_row = np.where(column == 1)[0][0]\n",
    "#             optimal_solution[i] = tableau[basic_variable_row, -1]\n",
    "\n",
    "#     optimal_objective_value = tableau[0, -1]\n",
    "#     if problem_type == 'min':\n",
    "#         optimal_objective_value = -optimal_objective_value\n",
    "#     return optimal_solution, optimal_objective_value\n",
    "\n",
    "# def transform_constraints(constraint_matrix, rhs_values, senses):\n",
    "#     transformed_constraint_matrix = constraint_matrix.copy()\n",
    "#     transformed_rhs_values = rhs_values.copy()\n",
    "#     for i, sense in enumerate(senses):\n",
    "#         if sense == '>=':\n",
    "#             # Multiply the constraint by -1 to convert '>=' into '<='.\n",
    "#             transformed_constraint_matrix[i, :] = -constraint_matrix[i, :]\n",
    "#             transformed_rhs_values[i] = -rhs_values[i]\n",
    "#     return transformed_constraint_matrix, transformed_rhs_values\n"
   ]
  },
  {
   "cell_type": "markdown",
   "metadata": {},
   "source": [
    "## Test question"
   ]
  },
  {
   "cell_type": "code",
   "execution_count": 4,
   "metadata": {},
   "outputs": [
    {
     "name": "stdout",
     "output_type": "stream",
     "text": [
      "\n",
      "Initial Tableau:\n",
      "Current Tableau:\n",
      "[[-3. -5.  0.  0.  0.]\n",
      " [ 2.  1.  1.  0. 10.]\n",
      " [ 1.  3.  0.  1. 12.]]\n",
      "--------------------------------------------------\n",
      "Explanation: We reach the solution when all coefficients in the objective row (first row) are nonnegative. This means that no further improvements can be achieved.\n",
      "\n",
      "--- Iteration 1 ---\n",
      "Current Tableau:\n",
      "[[-3. -5.  0.  0.  0.]\n",
      " [ 2.  1.  1.  0. 10.]\n",
      " [ 1.  3.  0.  1. 12.]]\n",
      "--------------------------------------------------\n",
      "Entering variable (most negative coefficient) is at column index: 1\n",
      "Coefficient value for entering variable: -5.000\n",
      "Calculating ratios for the pivot operation (RHS divided by pivot column coefficient):\n",
      "Row 1: RHS = 10.000, Coefficient = 1.000, Ratio = 10.000 / 1.000 = 10.000\n",
      "Row 2: RHS = 12.000, Coefficient = 3.000, Ratio = 12.000 / 3.000 = 4.000\n",
      "Leaving variable (minimum ratio) is at row index: 2\n",
      "The pivot element is the element at the intersection of the leaving row and the entering column.\n",
      "Pivot Element: Tableau[2, 1] = 3.000\n",
      "Dividing row 2 by pivot element 3.000\n",
      "Updated Tableau after dividing leaving row:\n",
      "[[-3.    -5.     0.     0.     0.   ]\n",
      " [ 2.     1.     1.     0.    10.   ]\n",
      " [ 0.333  1.     0.     0.333  4.   ]]\n",
      "Eliminating variable in row 0 using factor -5.000\n",
      "Updated Tableau after eliminating row 0:\n",
      "[[-1.333  0.     0.     1.667 20.   ]\n",
      " [ 2.     1.     1.     0.    10.   ]\n",
      " [ 0.333  1.     0.     0.333  4.   ]]\n",
      "Eliminating variable in row 1 using factor 1.000\n",
      "Updated Tableau after eliminating row 1:\n",
      "[[-1.333  0.     0.     1.667 20.   ]\n",
      " [ 1.667  0.     1.    -0.333  6.   ]\n",
      " [ 0.333  1.     0.     0.333  4.   ]]\n",
      "After pivot operation, the tableau is updated as follows:\n",
      "\n",
      "--- Iteration 1 ---\n",
      "Current Tableau:\n",
      "[[-1.333  0.     0.     1.667 20.   ]\n",
      " [ 1.667  0.     1.    -0.333  6.   ]\n",
      " [ 0.333  1.     0.     0.333  4.   ]]\n",
      "--------------------------------------------------\n",
      "\n",
      "--- Iteration 2 ---\n",
      "Current Tableau:\n",
      "[[-1.333  0.     0.     1.667 20.   ]\n",
      " [ 1.667  0.     1.    -0.333  6.   ]\n",
      " [ 0.333  1.     0.     0.333  4.   ]]\n",
      "--------------------------------------------------\n",
      "Entering variable (most negative coefficient) is at column index: 0\n",
      "Coefficient value for entering variable: -1.333\n",
      "Calculating ratios for the pivot operation (RHS divided by pivot column coefficient):\n",
      "Row 1: RHS = 6.000, Coefficient = 1.667, Ratio = 6.000 / 1.667 = 3.600\n",
      "Row 2: RHS = 4.000, Coefficient = 0.333, Ratio = 4.000 / 0.333 = 12.000\n",
      "Leaving variable (minimum ratio) is at row index: 1\n",
      "The pivot element is the element at the intersection of the leaving row and the entering column.\n",
      "Pivot Element: Tableau[1, 0] = 1.667\n",
      "Dividing row 1 by pivot element 1.667\n",
      "Updated Tableau after dividing leaving row:\n",
      "[[-1.333  0.     0.     1.667 20.   ]\n",
      " [ 1.     0.     0.6   -0.2    3.6  ]\n",
      " [ 0.333  1.     0.     0.333  4.   ]]\n",
      "Eliminating variable in row 0 using factor -1.333\n",
      "Updated Tableau after eliminating row 0:\n",
      "[[ 0.     0.     0.8    1.4   24.8  ]\n",
      " [ 1.     0.     0.6   -0.2    3.6  ]\n",
      " [ 0.333  1.     0.     0.333  4.   ]]\n",
      "Eliminating variable in row 2 using factor 0.333\n",
      "Updated Tableau after eliminating row 2:\n",
      "[[ 0.   0.   0.8  1.4 24.8]\n",
      " [ 1.   0.   0.6 -0.2  3.6]\n",
      " [ 0.   1.  -0.2  0.4  2.8]]\n",
      "After pivot operation, the tableau is updated as follows:\n",
      "\n",
      "--- Iteration 2 ---\n",
      "Current Tableau:\n",
      "[[ 0.   0.   0.8  1.4 24.8]\n",
      " [ 1.   0.   0.6 -0.2  3.6]\n",
      " [ 0.   1.  -0.2  0.4  2.8]]\n",
      "--------------------------------------------------\n",
      "\n",
      "--- Iteration 3 ---\n",
      "Current Tableau:\n",
      "[[ 0.   0.   0.8  1.4 24.8]\n",
      " [ 1.   0.   0.6 -0.2  3.6]\n",
      " [ 0.   1.  -0.2  0.4  2.8]]\n",
      "--------------------------------------------------\n",
      "All coefficients in the objective row are now nonnegative.\n",
      "Explanation: No further improvement is possible so the current solution is optimal.\n",
      "Optimal solution reached!\n",
      "Solution: [3.6 2.8]\n",
      "Objective value: 24.8\n",
      "\n",
      "Final Result:\n",
      "Status: optimal\n",
      "Solution: [3.6 2.8]\n",
      "Objective Value: 24.8\n"
     ]
    }
   ],
   "source": [
    "# Example usage:\n",
    "if __name__ == \"__main__\":\n",
    "    # Define a sample linear programming problem.\n",
    "    # Example: Maximize Z = 3x + 5y\n",
    "    # Subject to:\n",
    "    #   2x + y <= 10\n",
    "    #   x + 3y <= 12\n",
    "    #   x, y >= 0\n",
    "    objective_coeffs = np.array([3, 5])\n",
    "    constraint_matrix = np.array([[2, 1],\n",
    "                                  [1, 3]])\n",
    "    rhs_values = np.array([10, 12])\n",
    "    senses = ['<=', '<=']  # Both constraints are of the form <=\n",
    "\n",
    "    status, solution, objective_value = tabular_simplex(objective_coeffs, constraint_matrix, rhs_values, senses, problem_type='max', verbose=True)\n",
    "    print(\"\\nFinal Result:\")\n",
    "    print(\"Status:\", status)\n",
    "    if solution is not None:\n",
    "        print(\"Solution:\", np.round(solution, 3))\n",
    "    if objective_value is not None:\n",
    "        print(\"Objective Value:\", round(objective_value, 3))"
   ]
  },
  {
   "cell_type": "code",
   "execution_count": 5,
   "metadata": {},
   "outputs": [
    {
     "name": "stdout",
     "output_type": "stream",
     "text": [
      "\n",
      "Initial Tableau:\n",
      "Current Tableau:\n",
      "[[-5. -4.  0.  0.  0.]\n",
      " [ 3.  5.  1.  0. 78.]\n",
      " [ 4.  1.  0.  1. 36.]]\n",
      "--------------------------------------------------\n",
      "Explanation: We reach the solution when all coefficients in the objective row (first row) are nonnegative. This means that no further improvements can be achieved.\n",
      "\n",
      "--- Iteration 1 ---\n",
      "Current Tableau:\n",
      "[[-5. -4.  0.  0.  0.]\n",
      " [ 3.  5.  1.  0. 78.]\n",
      " [ 4.  1.  0.  1. 36.]]\n",
      "--------------------------------------------------\n",
      "Entering variable (most negative coefficient) is at column index: 0\n",
      "Coefficient value for entering variable: -5.000\n",
      "Calculating ratios for the pivot operation (RHS divided by pivot column coefficient):\n",
      "Row 1: RHS = 78.000, Coefficient = 3.000, Ratio = 78.000 / 3.000 = 26.000\n",
      "Row 2: RHS = 36.000, Coefficient = 4.000, Ratio = 36.000 / 4.000 = 9.000\n",
      "Leaving variable (minimum ratio) is at row index: 2\n",
      "The pivot element is the element at the intersection of the leaving row and the entering column.\n",
      "Pivot Element: Tableau[2, 0] = 4.000\n",
      "Dividing row 2 by pivot element 4.000\n",
      "Updated Tableau after dividing leaving row:\n",
      "[[-5.   -4.    0.    0.    0.  ]\n",
      " [ 3.    5.    1.    0.   78.  ]\n",
      " [ 1.    0.25  0.    0.25  9.  ]]\n",
      "Eliminating variable in row 0 using factor -5.000\n",
      "Updated Tableau after eliminating row 0:\n",
      "[[ 0.   -2.75  0.    1.25 45.  ]\n",
      " [ 3.    5.    1.    0.   78.  ]\n",
      " [ 1.    0.25  0.    0.25  9.  ]]\n",
      "Eliminating variable in row 1 using factor 3.000\n",
      "Updated Tableau after eliminating row 1:\n",
      "[[ 0.   -2.75  0.    1.25 45.  ]\n",
      " [ 0.    4.25  1.   -0.75 51.  ]\n",
      " [ 1.    0.25  0.    0.25  9.  ]]\n",
      "After pivot operation, the tableau is updated as follows:\n",
      "\n",
      "--- Iteration 1 ---\n",
      "Current Tableau:\n",
      "[[ 0.   -2.75  0.    1.25 45.  ]\n",
      " [ 0.    4.25  1.   -0.75 51.  ]\n",
      " [ 1.    0.25  0.    0.25  9.  ]]\n",
      "--------------------------------------------------\n",
      "\n",
      "--- Iteration 2 ---\n",
      "Current Tableau:\n",
      "[[ 0.   -2.75  0.    1.25 45.  ]\n",
      " [ 0.    4.25  1.   -0.75 51.  ]\n",
      " [ 1.    0.25  0.    0.25  9.  ]]\n",
      "--------------------------------------------------\n",
      "Entering variable (most negative coefficient) is at column index: 1\n",
      "Coefficient value for entering variable: -2.750\n",
      "Calculating ratios for the pivot operation (RHS divided by pivot column coefficient):\n",
      "Row 1: RHS = 51.000, Coefficient = 4.250, Ratio = 51.000 / 4.250 = 12.000\n",
      "Row 2: RHS = 9.000, Coefficient = 0.250, Ratio = 9.000 / 0.250 = 36.000\n",
      "Leaving variable (minimum ratio) is at row index: 1\n",
      "The pivot element is the element at the intersection of the leaving row and the entering column.\n",
      "Pivot Element: Tableau[1, 1] = 4.250\n",
      "Dividing row 1 by pivot element 4.250\n",
      "Updated Tableau after dividing leaving row:\n",
      "[[ 0.    -2.75   0.     1.25  45.   ]\n",
      " [ 0.     1.     0.235 -0.176 12.   ]\n",
      " [ 1.     0.25   0.     0.25   9.   ]]\n",
      "Eliminating variable in row 0 using factor -2.750\n",
      "Updated Tableau after eliminating row 0:\n",
      "[[ 0.     0.     0.647  0.765 78.   ]\n",
      " [ 0.     1.     0.235 -0.176 12.   ]\n",
      " [ 1.     0.25   0.     0.25   9.   ]]\n",
      "Eliminating variable in row 2 using factor 0.250\n",
      "Updated Tableau after eliminating row 2:\n",
      "[[ 0.     0.     0.647  0.765 78.   ]\n",
      " [ 0.     1.     0.235 -0.176 12.   ]\n",
      " [ 1.     0.    -0.059  0.294  6.   ]]\n",
      "After pivot operation, the tableau is updated as follows:\n",
      "\n",
      "--- Iteration 2 ---\n",
      "Current Tableau:\n",
      "[[ 0.     0.     0.647  0.765 78.   ]\n",
      " [ 0.     1.     0.235 -0.176 12.   ]\n",
      " [ 1.     0.    -0.059  0.294  6.   ]]\n",
      "--------------------------------------------------\n",
      "\n",
      "--- Iteration 3 ---\n",
      "Current Tableau:\n",
      "[[ 0.     0.     0.647  0.765 78.   ]\n",
      " [ 0.     1.     0.235 -0.176 12.   ]\n",
      " [ 1.     0.    -0.059  0.294  6.   ]]\n",
      "--------------------------------------------------\n",
      "All coefficients in the objective row are now nonnegative.\n",
      "Explanation: No further improvement is possible so the current solution is optimal.\n",
      "Optimal solution reached!\n",
      "Solution: [ 6. 12.]\n",
      "Objective value: 78.0\n",
      "\n",
      "Final Result:\n",
      "Status: optimal\n",
      "Solution: [ 6. 12.]\n",
      "Objective Value: 78.0\n"
     ]
    }
   ],
   "source": [
    "objective_coeffs = np.array([5, 4])\n",
    "constraint_matrix = np.array([[3, 5],\n",
    "                                [4, 1]])\n",
    "rhs_values = np.array([78, 36])\n",
    "senses = ['<=', '<=']  # Both constraints are of the form <=\n",
    "\n",
    "status, solution, objective_value = tabular_simplex(objective_coeffs, constraint_matrix, rhs_values, senses, problem_type='max', verbose=True)\n",
    "print(\"\\nFinal Result:\")\n",
    "print(\"Status:\", status)\n",
    "if solution is not None:\n",
    "    print(\"Solution:\", np.round(solution, 3))\n",
    "if objective_value is not None:\n",
    "    print(\"Objective Value:\", round(objective_value, 3))"
   ]
  },
  {
   "cell_type": "markdown",
   "metadata": {},
   "source": [
    "## Example questions"
   ]
  },
  {
   "cell_type": "code",
   "execution_count": 6,
   "metadata": {},
   "outputs": [
    {
     "name": "stdout",
     "output_type": "stream",
     "text": [
      "\n",
      "Example 1: Maximization:\n",
      "\n",
      "Initial Tableau:\n",
      "Current Tableau:\n",
      "[[-3. -5.  0.  0.  0.  0.]\n",
      " [ 1.  0.  1.  0.  0.  4.]\n",
      " [ 0.  2.  0.  1.  0. 12.]\n",
      " [ 3.  2.  0.  0.  1. 18.]]\n",
      "--------------------------------------------------\n",
      "Explanation: We reach the solution when all coefficients in the objective row (first row) are nonnegative. This means that no further improvements can be achieved.\n",
      "\n",
      "--- Iteration 1 ---\n",
      "Current Tableau:\n",
      "[[-3. -5.  0.  0.  0.  0.]\n",
      " [ 1.  0.  1.  0.  0.  4.]\n",
      " [ 0.  2.  0.  1.  0. 12.]\n",
      " [ 3.  2.  0.  0.  1. 18.]]\n",
      "--------------------------------------------------\n",
      "Entering variable (most negative coefficient) is at column index: 1\n",
      "Coefficient value for entering variable: -5.000\n",
      "Calculating ratios for the pivot operation (RHS divided by pivot column coefficient):\n",
      "Row 1: Coefficient = 0.000 (Not eligible for pivot, ratio = inf)\n",
      "Row 2: RHS = 12.000, Coefficient = 2.000, Ratio = 12.000 / 2.000 = 6.000\n",
      "Row 3: RHS = 18.000, Coefficient = 2.000, Ratio = 18.000 / 2.000 = 9.000\n",
      "Leaving variable (minimum ratio) is at row index: 2\n",
      "The pivot element is the element at the intersection of the leaving row and the entering column.\n",
      "Pivot Element: Tableau[2, 1] = 2.000\n",
      "Dividing row 2 by pivot element 2.000\n",
      "Updated Tableau after dividing leaving row:\n",
      "[[-3.  -5.   0.   0.   0.   0. ]\n",
      " [ 1.   0.   1.   0.   0.   4. ]\n",
      " [ 0.   1.   0.   0.5  0.   6. ]\n",
      " [ 3.   2.   0.   0.   1.  18. ]]\n",
      "Eliminating variable in row 0 using factor -5.000\n",
      "Updated Tableau after eliminating row 0:\n",
      "[[-3.   0.   0.   2.5  0.  30. ]\n",
      " [ 1.   0.   1.   0.   0.   4. ]\n",
      " [ 0.   1.   0.   0.5  0.   6. ]\n",
      " [ 3.   2.   0.   0.   1.  18. ]]\n",
      "Eliminating variable in row 1 using factor 0.000\n",
      "Updated Tableau after eliminating row 1:\n",
      "[[-3.   0.   0.   2.5  0.  30. ]\n",
      " [ 1.   0.   1.   0.   0.   4. ]\n",
      " [ 0.   1.   0.   0.5  0.   6. ]\n",
      " [ 3.   2.   0.   0.   1.  18. ]]\n",
      "Eliminating variable in row 3 using factor 2.000\n",
      "Updated Tableau after eliminating row 3:\n",
      "[[-3.   0.   0.   2.5  0.  30. ]\n",
      " [ 1.   0.   1.   0.   0.   4. ]\n",
      " [ 0.   1.   0.   0.5  0.   6. ]\n",
      " [ 3.   0.   0.  -1.   1.   6. ]]\n",
      "After pivot operation, the tableau is updated as follows:\n",
      "\n",
      "--- Iteration 1 ---\n",
      "Current Tableau:\n",
      "[[-3.   0.   0.   2.5  0.  30. ]\n",
      " [ 1.   0.   1.   0.   0.   4. ]\n",
      " [ 0.   1.   0.   0.5  0.   6. ]\n",
      " [ 3.   0.   0.  -1.   1.   6. ]]\n",
      "--------------------------------------------------\n",
      "\n",
      "--- Iteration 2 ---\n",
      "Current Tableau:\n",
      "[[-3.   0.   0.   2.5  0.  30. ]\n",
      " [ 1.   0.   1.   0.   0.   4. ]\n",
      " [ 0.   1.   0.   0.5  0.   6. ]\n",
      " [ 3.   0.   0.  -1.   1.   6. ]]\n",
      "--------------------------------------------------\n",
      "Entering variable (most negative coefficient) is at column index: 0\n",
      "Coefficient value for entering variable: -3.000\n",
      "Calculating ratios for the pivot operation (RHS divided by pivot column coefficient):\n",
      "Row 1: RHS = 4.000, Coefficient = 1.000, Ratio = 4.000 / 1.000 = 4.000\n",
      "Row 2: Coefficient = 0.000 (Not eligible for pivot, ratio = inf)\n",
      "Row 3: RHS = 6.000, Coefficient = 3.000, Ratio = 6.000 / 3.000 = 2.000\n",
      "Leaving variable (minimum ratio) is at row index: 3\n",
      "The pivot element is the element at the intersection of the leaving row and the entering column.\n",
      "Pivot Element: Tableau[3, 0] = 3.000\n",
      "Dividing row 3 by pivot element 3.000\n",
      "Updated Tableau after dividing leaving row:\n",
      "[[-3.     0.     0.     2.5    0.    30.   ]\n",
      " [ 1.     0.     1.     0.     0.     4.   ]\n",
      " [ 0.     1.     0.     0.5    0.     6.   ]\n",
      " [ 1.     0.     0.    -0.333  0.333  2.   ]]\n",
      "Eliminating variable in row 0 using factor -3.000\n",
      "Updated Tableau after eliminating row 0:\n",
      "[[ 0.     0.     0.     1.5    1.    36.   ]\n",
      " [ 1.     0.     1.     0.     0.     4.   ]\n",
      " [ 0.     1.     0.     0.5    0.     6.   ]\n",
      " [ 1.     0.     0.    -0.333  0.333  2.   ]]\n",
      "Eliminating variable in row 1 using factor 1.000\n",
      "Updated Tableau after eliminating row 1:\n",
      "[[ 0.     0.     0.     1.5    1.    36.   ]\n",
      " [ 0.     0.     1.     0.333 -0.333  2.   ]\n",
      " [ 0.     1.     0.     0.5    0.     6.   ]\n",
      " [ 1.     0.     0.    -0.333  0.333  2.   ]]\n",
      "Eliminating variable in row 2 using factor 0.000\n",
      "Updated Tableau after eliminating row 2:\n",
      "[[ 0.     0.     0.     1.5    1.    36.   ]\n",
      " [ 0.     0.     1.     0.333 -0.333  2.   ]\n",
      " [ 0.     1.     0.     0.5    0.     6.   ]\n",
      " [ 1.     0.     0.    -0.333  0.333  2.   ]]\n",
      "After pivot operation, the tableau is updated as follows:\n",
      "\n",
      "--- Iteration 2 ---\n",
      "Current Tableau:\n",
      "[[ 0.     0.     0.     1.5    1.    36.   ]\n",
      " [ 0.     0.     1.     0.333 -0.333  2.   ]\n",
      " [ 0.     1.     0.     0.5    0.     6.   ]\n",
      " [ 1.     0.     0.    -0.333  0.333  2.   ]]\n",
      "--------------------------------------------------\n",
      "\n",
      "--- Iteration 3 ---\n",
      "Current Tableau:\n",
      "[[ 0.     0.     0.     1.5    1.    36.   ]\n",
      " [ 0.     0.     1.     0.333 -0.333  2.   ]\n",
      " [ 0.     1.     0.     0.5    0.     6.   ]\n",
      " [ 1.     0.     0.    -0.333  0.333  2.   ]]\n",
      "--------------------------------------------------\n",
      "All coefficients in the objective row are now nonnegative.\n",
      "Explanation: No further improvement is possible so the current solution is optimal.\n",
      "Optimal solution reached!\n",
      "Solution: [2. 6.]\n",
      "Objective value: 36.0\n",
      "Solution: [2. 6.]\n",
      "Objective Value: 36.0\n"
     ]
    }
   ],
   "source": [
    "from webapp.example_problems import example_problems\n",
    "\n",
    "problem_name, problem_data = list(example_problems.items())[0]\n",
    "print(f\"\\n{problem_name}:\")\n",
    "\n",
    "objective_coeffs = np.array(problem_data[\"objective_coeffs\"])\n",
    "constraint_matrix = np.array(problem_data[\"constraint_matrix\"])\n",
    "rhs_values = np.array(problem_data[\"rhs_values\"])\n",
    "senses = problem_data[\"senses\"]\n",
    "problem_type = problem_data[\"problem_type\"]\n",
    "\n",
    "status, solution, objective_value = tabular_simplex(objective_coeffs, constraint_matrix, rhs_values, senses, problem_type)\n",
    "\n",
    "if solution is not None:\n",
    "    print(\"Solution:\", solution)\n",
    "if objective_value is not None:\n",
    "    print(\"Objective Value:\", objective_value)"
   ]
  },
  {
   "cell_type": "code",
   "execution_count": 7,
   "metadata": {},
   "outputs": [
    {
     "name": "stdout",
     "output_type": "stream",
     "text": [
      "\n",
      "Example 2: Minimization:\n",
      "\n",
      "Initial Tableau:\n",
      "Current Tableau:\n",
      "[[  2.   3.   0.   0.   0.]\n",
      " [ -1.  -1.  -1.   0. -10.]\n",
      " [  2.   1.   0.   1.  16.]]\n",
      "--------------------------------------------------\n",
      "Explanation: We reach the solution when all coefficients in the objective row (first row) are nonnegative. This means that no further improvements can be achieved.\n",
      "Converting minimization problem to its dual formulation for solution.\n",
      "Constructed dual problem from primal minimization problem.\n",
      "\n",
      "Initial Tableau:\n",
      "Current Tableau:\n",
      "[[ 10. -16.   0.   0.   0.]\n",
      " [ -1.   2.   1.   0.   2.]\n",
      " [ -1.   1.   0.   1.   3.]]\n",
      "--------------------------------------------------\n",
      "Explanation: We reach the solution when all coefficients in the objective row (first row) are nonnegative. This means that no further improvements can be achieved.\n",
      "\n",
      "--- Iteration 1 ---\n",
      "Current Tableau:\n",
      "[[ 10. -16.   0.   0.   0.]\n",
      " [ -1.   2.   1.   0.   2.]\n",
      " [ -1.   1.   0.   1.   3.]]\n",
      "--------------------------------------------------\n",
      "Entering variable (most negative coefficient) is at column index: 1\n",
      "Coefficient value for entering variable: -16.000\n",
      "Calculating ratios for the pivot operation (RHS divided by pivot column coefficient):\n",
      "Row 1: RHS = 2.000, Coefficient = 2.000, Ratio = 2.000 / 2.000 = 1.000\n",
      "Row 2: RHS = 3.000, Coefficient = 1.000, Ratio = 3.000 / 1.000 = 3.000\n",
      "Leaving variable (minimum ratio) is at row index: 1\n",
      "The pivot element is the element at the intersection of the leaving row and the entering column.\n",
      "Pivot Element: Tableau[1, 1] = 2.000\n",
      "Dividing row 1 by pivot element 2.000\n",
      "Updated Tableau after dividing leaving row:\n",
      "[[ 10.  -16.    0.    0.    0. ]\n",
      " [ -0.5   1.    0.5   0.    1. ]\n",
      " [ -1.    1.    0.    1.    3. ]]\n",
      "Eliminating variable in row 0 using factor -16.000\n",
      "Updated Tableau after eliminating row 0:\n",
      "[[ 2.   0.   8.   0.  16. ]\n",
      " [-0.5  1.   0.5  0.   1. ]\n",
      " [-1.   1.   0.   1.   3. ]]\n",
      "Eliminating variable in row 2 using factor 1.000\n",
      "Updated Tableau after eliminating row 2:\n",
      "[[ 2.   0.   8.   0.  16. ]\n",
      " [-0.5  1.   0.5  0.   1. ]\n",
      " [-0.5  0.  -0.5  1.   2. ]]\n",
      "After pivot operation, the tableau is updated as follows:\n",
      "\n",
      "--- Iteration 1 ---\n",
      "Current Tableau:\n",
      "[[ 2.   0.   8.   0.  16. ]\n",
      " [-0.5  1.   0.5  0.   1. ]\n",
      " [-0.5  0.  -0.5  1.   2. ]]\n",
      "--------------------------------------------------\n",
      "\n",
      "--- Iteration 2 ---\n",
      "Current Tableau:\n",
      "[[ 2.   0.   8.   0.  16. ]\n",
      " [-0.5  1.   0.5  0.   1. ]\n",
      " [-0.5  0.  -0.5  1.   2. ]]\n",
      "--------------------------------------------------\n",
      "All coefficients in the objective row are now nonnegative.\n",
      "Explanation: No further improvement is possible so the current solution is optimal.\n",
      "Optimal solution reached!\n",
      "Solution: [0. 1.]\n",
      "Objective value: 16.0\n",
      "Dual problem solved optimally.\n",
      "Dual solution: [0. 1.]\n",
      "Dual optimal objective value: 16.0\n",
      "Solution: [0. 1.]\n",
      "Objective Value: 16.0\n"
     ]
    }
   ],
   "source": [
    "from webapp.example_problems import example_problems\n",
    "\n",
    "problem_name, problem_data = list(example_problems.items())[1]\n",
    "print(f\"\\n{problem_name}:\")\n",
    "\n",
    "objective_coeffs = np.array(problem_data[\"objective_coeffs\"])\n",
    "constraint_matrix = np.array(problem_data[\"constraint_matrix\"])\n",
    "rhs_values = np.array(problem_data[\"rhs_values\"])\n",
    "senses = problem_data[\"senses\"]\n",
    "problem_type = problem_data[\"problem_type\"]\n",
    "\n",
    "status, solution, objective_value = tabular_simplex(objective_coeffs, constraint_matrix, rhs_values, senses, problem_type)\n",
    "\n",
    "if solution is not None:\n",
    "    print(\"Solution:\", solution)\n",
    "if objective_value is not None:\n",
    "    print(\"Objective Value:\", objective_value)"
   ]
  },
  {
   "cell_type": "code",
   "execution_count": 8,
   "metadata": {},
   "outputs": [
    {
     "name": "stdout",
     "output_type": "stream",
     "text": [
      "\n",
      "Example 8: Minimization with Three Variables:\n",
      "Solution: [0. 0. 0.]\n",
      "Objective Value: 0.0\n"
     ]
    }
   ],
   "source": [
    "problem_name, problem_data = list(example_problems.items())[7]\n",
    "print(f\"\\n{problem_name}:\")\n",
    "\n",
    "objective_coeffs = np.array(problem_data[\"objective_coeffs\"])\n",
    "constraint_matrix = np.array(problem_data[\"constraint_matrix\"])\n",
    "rhs_values = np.array(problem_data[\"rhs_values\"])\n",
    "senses = problem_data[\"senses\"]\n",
    "problem_type = problem_data[\"problem_type\"]\n",
    "\n",
    "status, solution, objective_value = tabular_simplex(objective_coeffs, constraint_matrix, rhs_values, senses, problem_type, verbose=False)\n",
    "    \n",
    "if solution is not None:\n",
    "    print(\"Solution:\", solution)\n",
    "if objective_value is not None:\n",
    "    print(\"Objective Value:\", objective_value)"
   ]
  },
  {
   "cell_type": "code",
   "execution_count": 9,
   "metadata": {},
   "outputs": [
    {
     "name": "stdout",
     "output_type": "stream",
     "text": [
      "\n",
      "Example 7: Maximization with Three Variables:\n",
      "\n",
      "Initial Tableau:\n",
      "Current Tableau:\n",
      "[[ -3.  -4.  -1.   0.   0.   0.   0.]\n",
      " [  3.  10.   5.   1.   0.   0. 120.]\n",
      " [  5.   2.   8.   0.   1.   0.   6.]\n",
      " [  8.  10.   3.   0.   0.   1. 105.]]\n",
      "--------------------------------------------------\n",
      "Explanation: We reach the solution when all coefficients in the objective row (first row) are nonnegative. This means that no further improvements can be achieved.\n",
      "\n",
      "--- Iteration 1 ---\n",
      "Current Tableau:\n",
      "[[ -3.  -4.  -1.   0.   0.   0.   0.]\n",
      " [  3.  10.   5.   1.   0.   0. 120.]\n",
      " [  5.   2.   8.   0.   1.   0.   6.]\n",
      " [  8.  10.   3.   0.   0.   1. 105.]]\n",
      "--------------------------------------------------\n",
      "Entering variable (most negative coefficient) is at column index: 1\n",
      "Coefficient value for entering variable: -4.000\n",
      "Calculating ratios for the pivot operation (RHS divided by pivot column coefficient):\n",
      "Row 1: RHS = 120.000, Coefficient = 10.000, Ratio = 120.000 / 10.000 = 12.000\n",
      "Row 2: RHS = 6.000, Coefficient = 2.000, Ratio = 6.000 / 2.000 = 3.000\n",
      "Row 3: RHS = 105.000, Coefficient = 10.000, Ratio = 105.000 / 10.000 = 10.500\n",
      "Leaving variable (minimum ratio) is at row index: 2\n",
      "The pivot element is the element at the intersection of the leaving row and the entering column.\n",
      "Pivot Element: Tableau[2, 1] = 2.000\n",
      "Dividing row 2 by pivot element 2.000\n",
      "Updated Tableau after dividing leaving row:\n",
      "[[ -3.   -4.   -1.    0.    0.    0.    0. ]\n",
      " [  3.   10.    5.    1.    0.    0.  120. ]\n",
      " [  2.5   1.    4.    0.    0.5   0.    3. ]\n",
      " [  8.   10.    3.    0.    0.    1.  105. ]]\n",
      "Eliminating variable in row 0 using factor -4.000\n",
      "Updated Tableau after eliminating row 0:\n",
      "[[  7.    0.   15.    0.    2.    0.   12. ]\n",
      " [  3.   10.    5.    1.    0.    0.  120. ]\n",
      " [  2.5   1.    4.    0.    0.5   0.    3. ]\n",
      " [  8.   10.    3.    0.    0.    1.  105. ]]\n",
      "Eliminating variable in row 1 using factor 10.000\n",
      "Updated Tableau after eliminating row 1:\n",
      "[[  7.    0.   15.    0.    2.    0.   12. ]\n",
      " [-22.    0.  -35.    1.   -5.    0.   90. ]\n",
      " [  2.5   1.    4.    0.    0.5   0.    3. ]\n",
      " [  8.   10.    3.    0.    0.    1.  105. ]]\n",
      "Eliminating variable in row 3 using factor 10.000\n",
      "Updated Tableau after eliminating row 3:\n",
      "[[  7.    0.   15.    0.    2.    0.   12. ]\n",
      " [-22.    0.  -35.    1.   -5.    0.   90. ]\n",
      " [  2.5   1.    4.    0.    0.5   0.    3. ]\n",
      " [-17.    0.  -37.    0.   -5.    1.   75. ]]\n",
      "After pivot operation, the tableau is updated as follows:\n",
      "\n",
      "--- Iteration 1 ---\n",
      "Current Tableau:\n",
      "[[  7.    0.   15.    0.    2.    0.   12. ]\n",
      " [-22.    0.  -35.    1.   -5.    0.   90. ]\n",
      " [  2.5   1.    4.    0.    0.5   0.    3. ]\n",
      " [-17.    0.  -37.    0.   -5.    1.   75. ]]\n",
      "--------------------------------------------------\n",
      "\n",
      "--- Iteration 2 ---\n",
      "Current Tableau:\n",
      "[[  7.    0.   15.    0.    2.    0.   12. ]\n",
      " [-22.    0.  -35.    1.   -5.    0.   90. ]\n",
      " [  2.5   1.    4.    0.    0.5   0.    3. ]\n",
      " [-17.    0.  -37.    0.   -5.    1.   75. ]]\n",
      "--------------------------------------------------\n",
      "All coefficients in the objective row are now nonnegative.\n",
      "Explanation: No further improvement is possible so the current solution is optimal.\n",
      "Optimal solution reached!\n",
      "Solution: [0. 3. 0.]\n",
      "Objective value: 12.0\n",
      "Solution: [0. 3. 0.]\n",
      "Objective Value: 12.0\n"
     ]
    }
   ],
   "source": [
    "from webapp.example_problems import example_problems\n",
    "\n",
    "problem_name, problem_data = list(example_problems.items())[6]\n",
    "print(f\"\\n{problem_name}:\")\n",
    "\n",
    "objective_coeffs = np.array(problem_data[\"objective_coeffs\"])\n",
    "constraint_matrix = np.array(problem_data[\"constraint_matrix\"])\n",
    "rhs_values = np.array(problem_data[\"rhs_values\"])\n",
    "senses = problem_data[\"senses\"]\n",
    "problem_type = problem_data[\"problem_type\"]\n",
    "\n",
    "status, solution, objective_value = tabular_simplex(objective_coeffs, constraint_matrix, rhs_values, senses, problem_type)\n",
    "\n",
    "if solution is not None:\n",
    "    print(\"Solution:\", solution)\n",
    "if objective_value is not None:\n",
    "    print(\"Objective Value:\", objective_value)"
   ]
  },
  {
   "cell_type": "code",
   "execution_count": 10,
   "metadata": {},
   "outputs": [
    {
     "name": "stdout",
     "output_type": "stream",
     "text": [
      "The pivot element is the element at the intersection of the leaving row and the entering column.\n",
      "Pivot Element: Tableau[2, 1] = 2.000\n",
      "Dividing row 2 by pivot element 2.000\n",
      "Updated Tableau after dividing leaving row:\n",
      "[[-6.  -8.  -4.   0.   0.   0.   0. ]\n",
      " [ 2.   1.   3.   1.   0.   0.   1. ]\n",
      " [ 0.5  1.   0.5  0.   0.5  0.   0.5]\n",
      " [ 3.   4.  -2.   0.   0.   1.   3. ]]\n",
      "Eliminating variable in row 0 using factor -8.000\n",
      "Updated Tableau after eliminating row 0:\n",
      "[[-2.   0.   0.   0.   4.   0.   4. ]\n",
      " [ 2.   1.   3.   1.   0.   0.   1. ]\n",
      " [ 0.5  1.   0.5  0.   0.5  0.   0.5]\n",
      " [ 3.   4.  -2.   0.   0.   1.   3. ]]\n",
      "Eliminating variable in row 1 using factor 1.000\n",
      "Updated Tableau after eliminating row 1:\n",
      "[[-2.   0.   0.   0.   4.   0.   4. ]\n",
      " [ 1.5  0.   2.5  1.  -0.5  0.   0.5]\n",
      " [ 0.5  1.   0.5  0.   0.5  0.   0.5]\n",
      " [ 3.   4.  -2.   0.   0.   1.   3. ]]\n",
      "Eliminating variable in row 3 using factor 4.000\n",
      "Updated Tableau after eliminating row 3:\n",
      "[[-2.   0.   0.   0.   4.   0.   4. ]\n",
      " [ 1.5  0.   2.5  1.  -0.5  0.   0.5]\n",
      " [ 0.5  1.   0.5  0.   0.5  0.   0.5]\n",
      " [ 1.   0.  -4.   0.  -2.   1.   1. ]]\n",
      "The pivot element is the element at the intersection of the leaving row and the entering column.\n",
      "Pivot Element: Tableau[1, 0] = 1.500\n",
      "Dividing row 1 by pivot element 1.500\n",
      "Updated Tableau after dividing leaving row:\n",
      "[[-2.     0.     0.     0.     4.     0.     4.   ]\n",
      " [ 1.     0.     1.667  0.667 -0.333  0.     0.333]\n",
      " [ 0.5    1.     0.5    0.     0.5    0.     0.5  ]\n",
      " [ 1.     0.    -4.     0.    -2.     1.     1.   ]]\n",
      "Eliminating variable in row 0 using factor -2.000\n",
      "Updated Tableau after eliminating row 0:\n",
      "[[ 0.     0.     3.333  1.333  3.333  0.     4.667]\n",
      " [ 1.     0.     1.667  0.667 -0.333  0.     0.333]\n",
      " [ 0.5    1.     0.5    0.     0.5    0.     0.5  ]\n",
      " [ 1.     0.    -4.     0.    -2.     1.     1.   ]]\n",
      "Eliminating variable in row 2 using factor 0.500\n",
      "Updated Tableau after eliminating row 2:\n",
      "[[ 0.     0.     3.333  1.333  3.333  0.     4.667]\n",
      " [ 1.     0.     1.667  0.667 -0.333  0.     0.333]\n",
      " [ 0.     1.    -0.333 -0.333  0.667  0.     0.333]\n",
      " [ 1.     0.    -4.     0.    -2.     1.     1.   ]]\n",
      "Eliminating variable in row 3 using factor 1.000\n",
      "Updated Tableau after eliminating row 3:\n",
      "[[ 0.     0.     3.333  1.333  3.333  0.     4.667]\n",
      " [ 1.     0.     1.667  0.667 -0.333  0.     0.333]\n",
      " [ 0.     1.    -0.333 -0.333  0.667  0.     0.333]\n",
      " [ 0.     0.    -5.667 -0.667 -1.667  1.     0.667]]\n"
     ]
    }
   ],
   "source": [
    "import numpy as np\n",
    "\n",
    "status, solution, objective_value = dual_simplex(\n",
    "    objective_coeffs = np.array([1,1,3]),\n",
    "    constraint_matrix = np.array([[2, 1, 3], [1, 2, 4], [3, 1, -2]]),\n",
    "    rhs_values = np.array([6, 8, 4]),\n",
    "    senses = ['>=', '>=', '>='],\n",
    "    verbose=False)"
   ]
  },
  {
   "cell_type": "code",
   "execution_count": 11,
   "metadata": {},
   "outputs": [
    {
     "name": "stdout",
     "output_type": "stream",
     "text": [
      "The pivot element is the element at the intersection of the leaving row and the entering column.\n",
      "Pivot Element: Tableau[2, 1] = 14.000\n",
      "Dividing row 2 by pivot element 14.000\n",
      "Updated Tableau after dividing leaving row:\n",
      "[[-10.    -16.      0.      0.      0.   ]\n",
      " [  1.      2.      1.      0.      2.   ]\n",
      " [  0.071   1.      0.      0.071   0.214]]\n",
      "Eliminating variable in row 0 using factor -16.000\n",
      "Updated Tableau after eliminating row 0:\n",
      "[[-8.857  0.     0.     1.143  3.429]\n",
      " [ 1.     2.     1.     0.     2.   ]\n",
      " [ 0.071  1.     0.     0.071  0.214]]\n",
      "Eliminating variable in row 1 using factor 2.000\n",
      "Updated Tableau after eliminating row 1:\n",
      "[[-8.857  0.     0.     1.143  3.429]\n",
      " [ 0.857  0.     1.    -0.143  1.571]\n",
      " [ 0.071  1.     0.     0.071  0.214]]\n",
      "The pivot element is the element at the intersection of the leaving row and the entering column.\n",
      "Pivot Element: Tableau[1, 0] = 0.857\n",
      "Dividing row 1 by pivot element 0.857\n",
      "Updated Tableau after dividing leaving row:\n",
      "[[-8.857  0.     0.     1.143  3.429]\n",
      " [ 1.     0.     1.167 -0.167  1.833]\n",
      " [ 0.071  1.     0.     0.071  0.214]]\n",
      "Eliminating variable in row 0 using factor -8.857\n",
      "Updated Tableau after eliminating row 0:\n",
      "[[ 0.     0.    10.333 -0.333 19.667]\n",
      " [ 1.     0.     1.167 -0.167  1.833]\n",
      " [ 0.071  1.     0.     0.071  0.214]]\n",
      "Eliminating variable in row 2 using factor 0.071\n",
      "Updated Tableau after eliminating row 2:\n",
      "[[ 0.     0.    10.333 -0.333 19.667]\n",
      " [ 1.     0.     1.167 -0.167  1.833]\n",
      " [ 0.     1.    -0.083  0.083  0.083]]\n",
      "The pivot element is the element at the intersection of the leaving row and the entering column.\n",
      "Pivot Element: Tableau[2, 3] = 0.083\n",
      "Dividing row 2 by pivot element 0.083\n",
      "Updated Tableau after dividing leaving row:\n",
      "[[ 0.     0.    10.333 -0.333 19.667]\n",
      " [ 1.     0.     1.167 -0.167  1.833]\n",
      " [ 0.    12.    -1.     1.     1.   ]]\n",
      "Eliminating variable in row 0 using factor -0.333\n",
      "Updated Tableau after eliminating row 0:\n",
      "[[ 0.     4.    10.     0.    20.   ]\n",
      " [ 1.     0.     1.167 -0.167  1.833]\n",
      " [ 0.    12.    -1.     1.     1.   ]]\n",
      "Eliminating variable in row 1 using factor -0.167\n",
      "Updated Tableau after eliminating row 1:\n",
      "[[ 0.  4. 10.  0. 20.]\n",
      " [ 1.  2.  1.  0.  2.]\n",
      " [ 0. 12. -1.  1.  1.]]\n"
     ]
    }
   ],
   "source": [
    "import numpy as np\n",
    "\n",
    "status, solution, objective_value = dual_simplex(\n",
    "    objective_coeffs = np.array([2,3]),\n",
    "    constraint_matrix = np.array([[1,1], [2,14]]),\n",
    "    rhs_values = np.array([10,16]),\n",
    "    senses = ['>=', '>=', '>='],\n",
    "    verbose=False)"
   ]
  },
  {
   "cell_type": "markdown",
   "metadata": {},
   "source": [
    "## graphing"
   ]
  },
  {
   "cell_type": "code",
   "execution_count": 6,
   "metadata": {},
   "outputs": [
    {
     "data": {
      "application/vnd.plotly.v1+json": {
       "config": {
        "plotlyServerURL": "https://plot.ly"
       },
       "data": [
        {
         "line": {
          "color": "blue",
          "dash": "dash"
         },
         "mode": "lines",
         "name": "x + y = 10",
         "type": "scatter",
         "x": {
          "bdata": "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",
          "dtype": "f8"
         },
         "y": {
          "bdata": "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",
          "dtype": "f8"
         }
        },
        {
         "line": {
          "color": "red",
          "dash": "dash"
         },
         "mode": "lines",
         "name": "x + y = 5",
         "type": "scatter",
         "x": {
          "bdata": "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",
          "dtype": "f8"
         },
         "y": {
          "bdata": "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",
          "dtype": "f8"
         }
        }
       ],
       "layout": {
        "annotations": [
         {
          "font": {
           "color": "red",
           "size": 16
          },
          "showarrow": false,
          "text": "Infeasible Solution: The inequalities are contradictory.",
          "x": 0.5,
          "xref": "paper",
          "y": 0.5,
          "yref": "paper"
         }
        ],
        "showlegend": true,
        "template": {
         "data": {
          "bar": [
           {
            "error_x": {
             "color": "#2a3f5f"
            },
            "error_y": {
             "color": "#2a3f5f"
            },
            "marker": {
             "line": {
              "color": "#E5ECF6",
              "width": 0.5
             },
             "pattern": {
              "fillmode": "overlay",
              "size": 10,
              "solidity": 0.2
             }
            },
            "type": "bar"
           }
          ],
          "barpolar": [
           {
            "marker": {
             "line": {
              "color": "#E5ECF6",
              "width": 0.5
             },
             "pattern": {
              "fillmode": "overlay",
              "size": 10,
              "solidity": 0.2
             }
            },
            "type": "barpolar"
           }
          ],
          "carpet": [
           {
            "aaxis": {
             "endlinecolor": "#2a3f5f",
             "gridcolor": "white",
             "linecolor": "white",
             "minorgridcolor": "white",
             "startlinecolor": "#2a3f5f"
            },
            "baxis": {
             "endlinecolor": "#2a3f5f",
             "gridcolor": "white",
             "linecolor": "white",
             "minorgridcolor": "white",
             "startlinecolor": "#2a3f5f"
            },
            "type": "carpet"
           }
          ],
          "choropleth": [
           {
            "colorbar": {
             "outlinewidth": 0,
             "ticks": ""
            },
            "type": "choropleth"
           }
          ],
          "contour": [
           {
            "colorbar": {
             "outlinewidth": 0,
             "ticks": ""
            },
            "colorscale": [
             [
              0,
              "#0d0887"
             ],
             [
              0.1111111111111111,
              "#46039f"
             ],
             [
              0.2222222222222222,
              "#7201a8"
             ],
             [
              0.3333333333333333,
              "#9c179e"
             ],
             [
              0.4444444444444444,
              "#bd3786"
             ],
             [
              0.5555555555555556,
              "#d8576b"
             ],
             [
              0.6666666666666666,
              "#ed7953"
             ],
             [
              0.7777777777777778,
              "#fb9f3a"
             ],
             [
              0.8888888888888888,
              "#fdca26"
             ],
             [
              1,
              "#f0f921"
             ]
            ],
            "type": "contour"
           }
          ],
          "contourcarpet": [
           {
            "colorbar": {
             "outlinewidth": 0,
             "ticks": ""
            },
            "type": "contourcarpet"
           }
          ],
          "heatmap": [
           {
            "colorbar": {
             "outlinewidth": 0,
             "ticks": ""
            },
            "colorscale": [
             [
              0,
              "#0d0887"
             ],
             [
              0.1111111111111111,
              "#46039f"
             ],
             [
              0.2222222222222222,
              "#7201a8"
             ],
             [
              0.3333333333333333,
              "#9c179e"
             ],
             [
              0.4444444444444444,
              "#bd3786"
             ],
             [
              0.5555555555555556,
              "#d8576b"
             ],
             [
              0.6666666666666666,
              "#ed7953"
             ],
             [
              0.7777777777777778,
              "#fb9f3a"
             ],
             [
              0.8888888888888888,
              "#fdca26"
             ],
             [
              1,
              "#f0f921"
             ]
            ],
            "type": "heatmap"
           }
          ],
          "histogram": [
           {
            "marker": {
             "pattern": {
              "fillmode": "overlay",
              "size": 10,
              "solidity": 0.2
             }
            },
            "type": "histogram"
           }
          ],
          "histogram2d": [
           {
            "colorbar": {
             "outlinewidth": 0,
             "ticks": ""
            },
            "colorscale": [
             [
              0,
              "#0d0887"
             ],
             [
              0.1111111111111111,
              "#46039f"
             ],
             [
              0.2222222222222222,
              "#7201a8"
             ],
             [
              0.3333333333333333,
              "#9c179e"
             ],
             [
              0.4444444444444444,
              "#bd3786"
             ],
             [
              0.5555555555555556,
              "#d8576b"
             ],
             [
              0.6666666666666666,
              "#ed7953"
             ],
             [
              0.7777777777777778,
              "#fb9f3a"
             ],
             [
              0.8888888888888888,
              "#fdca26"
             ],
             [
              1,
              "#f0f921"
             ]
            ],
            "type": "histogram2d"
           }
          ],
          "histogram2dcontour": [
           {
            "colorbar": {
             "outlinewidth": 0,
             "ticks": ""
            },
            "colorscale": [
             [
              0,
              "#0d0887"
             ],
             [
              0.1111111111111111,
              "#46039f"
             ],
             [
              0.2222222222222222,
              "#7201a8"
             ],
             [
              0.3333333333333333,
              "#9c179e"
             ],
             [
              0.4444444444444444,
              "#bd3786"
             ],
             [
              0.5555555555555556,
              "#d8576b"
             ],
             [
              0.6666666666666666,
              "#ed7953"
             ],
             [
              0.7777777777777778,
              "#fb9f3a"
             ],
             [
              0.8888888888888888,
              "#fdca26"
             ],
             [
              1,
              "#f0f921"
             ]
            ],
            "type": "histogram2dcontour"
           }
          ],
          "mesh3d": [
           {
            "colorbar": {
             "outlinewidth": 0,
             "ticks": ""
            },
            "type": "mesh3d"
           }
          ],
          "parcoords": [
           {
            "line": {
             "colorbar": {
              "outlinewidth": 0,
              "ticks": ""
             }
            },
            "type": "parcoords"
           }
          ],
          "pie": [
           {
            "automargin": true,
            "type": "pie"
           }
          ],
          "scatter": [
           {
            "fillpattern": {
             "fillmode": "overlay",
             "size": 10,
             "solidity": 0.2
            },
            "type": "scatter"
           }
          ],
          "scatter3d": [
           {
            "line": {
             "colorbar": {
              "outlinewidth": 0,
              "ticks": ""
             }
            },
            "marker": {
             "colorbar": {
              "outlinewidth": 0,
              "ticks": ""
             }
            },
            "type": "scatter3d"
           }
          ],
          "scattercarpet": [
           {
            "marker": {
             "colorbar": {
              "outlinewidth": 0,
              "ticks": ""
             }
            },
            "type": "scattercarpet"
           }
          ],
          "scattergeo": [
           {
            "marker": {
             "colorbar": {
              "outlinewidth": 0,
              "ticks": ""
             }
            },
            "type": "scattergeo"
           }
          ],
          "scattergl": [
           {
            "marker": {
             "colorbar": {
              "outlinewidth": 0,
              "ticks": ""
             }
            },
            "type": "scattergl"
           }
          ],
          "scattermap": [
           {
            "marker": {
             "colorbar": {
              "outlinewidth": 0,
              "ticks": ""
             }
            },
            "type": "scattermap"
           }
          ],
          "scattermapbox": [
           {
            "marker": {
             "colorbar": {
              "outlinewidth": 0,
              "ticks": ""
             }
            },
            "type": "scattermapbox"
           }
          ],
          "scatterpolar": [
           {
            "marker": {
             "colorbar": {
              "outlinewidth": 0,
              "ticks": ""
             }
            },
            "type": "scatterpolar"
           }
          ],
          "scatterpolargl": [
           {
            "marker": {
             "colorbar": {
              "outlinewidth": 0,
              "ticks": ""
             }
            },
            "type": "scatterpolargl"
           }
          ],
          "scatterternary": [
           {
            "marker": {
             "colorbar": {
              "outlinewidth": 0,
              "ticks": ""
             }
            },
            "type": "scatterternary"
           }
          ],
          "surface": [
           {
            "colorbar": {
             "outlinewidth": 0,
             "ticks": ""
            },
            "colorscale": [
             [
              0,
              "#0d0887"
             ],
             [
              0.1111111111111111,
              "#46039f"
             ],
             [
              0.2222222222222222,
              "#7201a8"
             ],
             [
              0.3333333333333333,
              "#9c179e"
             ],
             [
              0.4444444444444444,
              "#bd3786"
             ],
             [
              0.5555555555555556,
              "#d8576b"
             ],
             [
              0.6666666666666666,
              "#ed7953"
             ],
             [
              0.7777777777777778,
              "#fb9f3a"
             ],
             [
              0.8888888888888888,
              "#fdca26"
             ],
             [
              1,
              "#f0f921"
             ]
            ],
            "type": "surface"
           }
          ],
          "table": [
           {
            "cells": {
             "fill": {
              "color": "#EBF0F8"
             },
             "line": {
              "color": "white"
             }
            },
            "header": {
             "fill": {
              "color": "#C8D4E3"
             },
             "line": {
              "color": "white"
             }
            },
            "type": "table"
           }
          ]
         },
         "layout": {
          "annotationdefaults": {
           "arrowcolor": "#2a3f5f",
           "arrowhead": 0,
           "arrowwidth": 1
          },
          "autotypenumbers": "strict",
          "coloraxis": {
           "colorbar": {
            "outlinewidth": 0,
            "ticks": ""
           }
          },
          "colorscale": {
           "diverging": [
            [
             0,
             "#8e0152"
            ],
            [
             0.1,
             "#c51b7d"
            ],
            [
             0.2,
             "#de77ae"
            ],
            [
             0.3,
             "#f1b6da"
            ],
            [
             0.4,
             "#fde0ef"
            ],
            [
             0.5,
             "#f7f7f7"
            ],
            [
             0.6,
             "#e6f5d0"
            ],
            [
             0.7,
             "#b8e186"
            ],
            [
             0.8,
             "#7fbc41"
            ],
            [
             0.9,
             "#4d9221"
            ],
            [
             1,
             "#276419"
            ]
           ],
           "sequential": [
            [
             0,
             "#0d0887"
            ],
            [
             0.1111111111111111,
             "#46039f"
            ],
            [
             0.2222222222222222,
             "#7201a8"
            ],
            [
             0.3333333333333333,
             "#9c179e"
            ],
            [
             0.4444444444444444,
             "#bd3786"
            ],
            [
             0.5555555555555556,
             "#d8576b"
            ],
            [
             0.6666666666666666,
             "#ed7953"
            ],
            [
             0.7777777777777778,
             "#fb9f3a"
            ],
            [
             0.8888888888888888,
             "#fdca26"
            ],
            [
             1,
             "#f0f921"
            ]
           ],
           "sequentialminus": [
            [
             0,
             "#0d0887"
            ],
            [
             0.1111111111111111,
             "#46039f"
            ],
            [
             0.2222222222222222,
             "#7201a8"
            ],
            [
             0.3333333333333333,
             "#9c179e"
            ],
            [
             0.4444444444444444,
             "#bd3786"
            ],
            [
             0.5555555555555556,
             "#d8576b"
            ],
            [
             0.6666666666666666,
             "#ed7953"
            ],
            [
             0.7777777777777778,
             "#fb9f3a"
            ],
            [
             0.8888888888888888,
             "#fdca26"
            ],
            [
             1,
             "#f0f921"
            ]
           ]
          },
          "colorway": [
           "#636efa",
           "#EF553B",
           "#00cc96",
           "#ab63fa",
           "#FFA15A",
           "#19d3f3",
           "#FF6692",
           "#B6E880",
           "#FF97FF",
           "#FECB52"
          ],
          "font": {
           "color": "#2a3f5f"
          },
          "geo": {
           "bgcolor": "white",
           "lakecolor": "white",
           "landcolor": "#E5ECF6",
           "showlakes": true,
           "showland": true,
           "subunitcolor": "white"
          },
          "hoverlabel": {
           "align": "left"
          },
          "hovermode": "closest",
          "mapbox": {
           "style": "light"
          },
          "paper_bgcolor": "white",
          "plot_bgcolor": "#E5ECF6",
          "polar": {
           "angularaxis": {
            "gridcolor": "white",
            "linecolor": "white",
            "ticks": ""
           },
           "bgcolor": "#E5ECF6",
           "radialaxis": {
            "gridcolor": "white",
            "linecolor": "white",
            "ticks": ""
           }
          },
          "scene": {
           "xaxis": {
            "backgroundcolor": "#E5ECF6",
            "gridcolor": "white",
            "gridwidth": 2,
            "linecolor": "white",
            "showbackground": true,
            "ticks": "",
            "zerolinecolor": "white"
           },
           "yaxis": {
            "backgroundcolor": "#E5ECF6",
            "gridcolor": "white",
            "gridwidth": 2,
            "linecolor": "white",
            "showbackground": true,
            "ticks": "",
            "zerolinecolor": "white"
           },
           "zaxis": {
            "backgroundcolor": "#E5ECF6",
            "gridcolor": "white",
            "gridwidth": 2,
            "linecolor": "white",
            "showbackground": true,
            "ticks": "",
            "zerolinecolor": "white"
           }
          },
          "shapedefaults": {
           "line": {
            "color": "#2a3f5f"
           }
          },
          "ternary": {
           "aaxis": {
            "gridcolor": "white",
            "linecolor": "white",
            "ticks": ""
           },
           "baxis": {
            "gridcolor": "white",
            "linecolor": "white",
            "ticks": ""
           },
           "bgcolor": "#E5ECF6",
           "caxis": {
            "gridcolor": "white",
            "linecolor": "white",
            "ticks": ""
           }
          },
          "title": {
           "x": 0.05
          },
          "xaxis": {
           "automargin": true,
           "gridcolor": "white",
           "linecolor": "white",
           "ticks": "",
           "title": {
            "standoff": 15
           },
           "zerolinecolor": "white",
           "zerolinewidth": 2
          },
          "yaxis": {
           "automargin": true,
           "gridcolor": "white",
           "linecolor": "white",
           "ticks": "",
           "title": {
            "standoff": 15
           },
           "zerolinecolor": "white",
           "zerolinewidth": 2
          }
         }
        },
        "title": {
         "text": "Inequalities Visualization - Infeasible Solution"
        },
        "xaxis": {
         "range": [
          -10,
          20
         ],
         "title": {
          "text": "x"
         }
        },
        "yaxis": {
         "range": [
          -10,
          20
         ],
         "title": {
          "text": "y"
         }
        }
       }
      }
     },
     "metadata": {},
     "output_type": "display_data"
    }
   ],
   "source": [
    "import numpy as np\n",
    "import plotly.graph_objects as go\n",
    "\n",
    "# Create a grid of x values\n",
    "x = np.linspace(-10, 20, 400)\n",
    "y1_upper = 10 - x  # for the line x + y = 10 (upper bound)\n",
    "y2_lower = 5 - x    # for the line x + y = 5 (lower bound)\n",
    "\n",
    "# Create the figure\n",
    "fig = go.Figure()\n",
    "\n",
    "# Add the lines representing the boundaries of the inequalities\n",
    "fig.add_trace(go.Scatter(x=x, y=y1_upper, mode='lines', name='x + y = 10', line=dict(color='blue', dash='dash')))\n",
    "fig.add_trace(go.Scatter(x=x, y=y2_lower, mode='lines', name='x + y = 5', line=dict(color='red', dash='dash')))\n",
    "\n",
    "# Since the inequalities x + y >= 10 and x + y <= 5 are contradictory, there is no feasible region.\n",
    "# Instead of shading, display a message indicating that the solution is infeasible.\n",
    "fig.add_annotation(\n",
    "    text=\"Infeasible Solution: The inequalities are contradictory.\",\n",
    "    xref=\"paper\", yref=\"paper\",\n",
    "    x=0.5, y=0.5, showarrow=False, font=dict(size=16, color=\"red\")\n",
    ")\n",
    "\n",
    "# Update layout\n",
    "fig.update_layout(title='Inequalities Visualization - Infeasible Solution',\n",
    "                  xaxis_title='x',\n",
    "                  yaxis_title='y',\n",
    "                  xaxis=dict(range=[-10, 20]),\n",
    "                  yaxis=dict(range=[-10, 20]),\n",
    "                  showlegend=True)\n",
    "\n",
    "# Show the figure\n",
    "fig.show()\n"
   ]
  },
  {
   "cell_type": "code",
   "execution_count": 8,
   "metadata": {},
   "outputs": [
    {
     "data": {
      "image/png": "[encoded data removed]",
      "text/plain": [
       "<Figure size 800x600 with 1 Axes>"
      ]
     },
     "metadata": {},
     "output_type": "display_data"
    }
   ],
   "source": [
    "import numpy as np\n",
    "import matplotlib.pyplot as plt\n",
    "\n",
    "# Create a grid of x values\n",
    "x = np.linspace(-10, 20, 400)\n",
    "y1_upper = 10 - x  # for the line x + y = 10 (upper bound)\n",
    "y2_lower = 5 - x    # for the line x + y = 5 (lower bound)\n",
    "\n",
    "# Create the plot\n",
    "plt.figure(figsize=(8, 6))\n",
    "\n",
    "# Add the lines representing the boundaries of the inequalities\n",
    "plt.plot(x, y1_upper, linestyle='--', color='blue', label='x + y = 10')\n",
    "plt.plot(x, y2_lower, linestyle='--', color='red', label='x + y = 5')\n",
    "\n",
    "# Shade the region where x + y <= 10\n",
    "plt.fill_between(x, y1_upper, 20, where=(y1_upper > -10), color='blue', alpha=0.1, label='x + y <= 10')\n",
    "\n",
    "# Shade the region where x + y >= 5\n",
    "plt.fill_between(x, y2_lower, -10, where=(y2_lower < 20), color='red', alpha=0.1, label='x + y >= 5')\n",
    "\n",
    "# Since the inequalities x + y >= 10 and x + y <= 5 are contradictory, there is no feasible region.\n",
    "# Instead of shading, display a message indicating that the solution is infeasible.\n",
    "# plt.text(0.5, 0.5, \"Infeasible Solution: The inequalities are contradictory.\",\n",
    "#          horizontalalignment='center', verticalalignment='center',\n",
    "#          fontsize=12, color='red', transform=plt.gca().transAxes)\n",
    "\n",
    "# Update layout\n",
    "plt.title('Inequalities Visualization - Infeasible Solution')\n",
    "plt.xlabel('x')\n",
    "plt.ylabel('y')\n",
    "plt.xlim([-10, 20])\n",
    "plt.ylim([-10, 20])\n",
    "plt.legend()\n",
    "plt.grid(True)\n",
    "\n",
    "# Show the plot\n",
    "plt.show()\n"
   ]
  }
 ],
 "metadata": {
  "kernelspec": {
   "display_name": "Python 3",
   "language": "python",
   "name": "python3"
  },
  "language_info": {
   "codemirror_mode": {
    "name": "ipython",
    "version": 3
   },
   "file_extension": ".py",
   "mimetype": "text/x-python",
   "name": "python",
   "nbconvert_exporter": "python",
   "pygments_lexer": "ipython3",
   "version": "3.13.1"
  }
 },
 "nbformat": 4,
 "nbformat_minor": 2
}
