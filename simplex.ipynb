{
 "cells": [
  {
   "cell_type": "code",
   "execution_count": 1,
   "metadata": {},
   "outputs": [],
   "source": [
    "import numpy as np\n",
    "# from .webapp.simplex import tabular_simplex  # Removed relative import\n",
    "from simplex import tabular_simplex\n",
    "from IPython.display import display, Math, Latex\n"
   ]
  },
  {
   "cell_type": "code",
   "execution_count": 2,
   "metadata": {},
   "outputs": [
    {
     "name": "stdout",
     "output_type": "stream",
     "text": [
      "Example 1: Maximization\n",
      "\n",
      "Problem in LaTeX format:\n",
      "\\begin{align*}\n",
      "\\max \\quad &3x_1 + 5x_2 \\\\\n",
      "\\text{subject to} \\quad &\n",
      "1x_1 + 0x_2 \\leq 4 \\\\\n",
      "0x_1 + 2x_2 \\leq 12 \\\\\n",
      "3x_1 + 2x_2 \\leq 18 \\\\\n",
      "x_1, x_2 \\geq 0\n",
      "\\end{align*}\n",
      "\n",
      "Initial Problem Setup:\n",
      "Number of constraints (m): 3\n",
      "Number of variables (n): 2\n",
      "Objective function coefficients (c): [3 5]\n",
      "\n",
      "==================================================\n",
      "Iteration 1:\n",
      "Current tableau:\n",
      "[[ 3.  5.  0.  0.  0.  0.]\n",
      " [ 1.  0.  1.  0.  0.  4.]\n",
      " [ 0.  2.  0.  1.  0. 12.]\n",
      " [ 3.  2.  0.  0.  1. 18.]]\n",
      "\n",
      "Optimal solution found!\n",
      "\n",
      "Final Status: optimal\n",
      "Optimal solution: x = [0. 0.]\n",
      "Optimal objective value: z = 0.0\n"
     ]
    }
   ],
   "source": [
    "# Example 1: Maximization problem with all <= constraints\n",
    "c1 = np.array([3, 5])\n",
    "A1 = np.array([[1, 0], [0, 2], [3, 2]])\n",
    "b1 = np.array([4, 12, 18])\n",
    "senses1 = ['<=', '<=', '<=']\n",
    "\n",
    "print(\"Example 1: Maximization\")\n",
    "status1, x1, z1, tableau1 = tabular_simplex(c1, A1, b1, senses1, problem_type='max')\n",
    "\n",
    "print(f\"\\nFinal Status: {status1}\")\n",
    "if x1 is not None:\n",
    "    print(f\"Optimal solution: x = {x1}\")\n",
    "    print(f\"Optimal objective value: z = {z1}\")"
   ]
  },
  {
   "cell_type": "code",
   "execution_count": 3,
   "metadata": {},
   "outputs": [
    {
     "name": "stderr",
     "output_type": "stream",
     "text": [
      "Optimal solution violates at least one constraint\n"
     ]
    },
    {
     "name": "stdout",
     "output_type": "stream",
     "text": [
      "\n",
      "Example 2: Minimization\n",
      "\n",
      "Problem in LaTeX format:\n",
      "\\begin{align*}\n",
      "\\min \\quad &2x_1 + 3x_2 \\\\\n",
      "\\text{subject to} \\quad &\n",
      "1x_1 + 1x_2 \\geq 10 \\\\\n",
      "2x_1 + 1x_2 = 16 \\\\\n",
      "x_1, x_2 \\geq 0\n",
      "\\end{align*}\n",
      "\n",
      "Initial Problem Setup:\n",
      "Number of constraints (m): 2\n",
      "Number of variables (n): 2\n",
      "Objective function coefficients (c): [2 3]\n",
      "\n",
      "==================================================\n",
      "Iteration 1:\n",
      "Current tableau:\n",
      "[[ -2.  -3.   0.   0.   0.]\n",
      " [ -1.  -1.  -1.   0. -10.]\n",
      " [  2.   1.   0.   1.  16.]]\n",
      "\n",
      "Selecting entering variable:\n",
      "Most negative coefficient in objective row: -3.0000\n",
      "Entering variable: x_2\n",
      "\n",
      "Leaving variable: row 2\n",
      "Pivot element: 1.0000\n",
      "\n",
      "==================================================\n",
      "Iteration 2:\n",
      "Current tableau:\n",
      "[[ 4.  0.  0.  3. 48.]\n",
      " [ 1.  0. -1.  1.  6.]\n",
      " [ 2.  1.  0.  1. 16.]]\n",
      "\n",
      "Problem is infeasible!\n",
      "\n",
      "Final Status: infeasible\n"
     ]
    }
   ],
   "source": [
    "# Example 2: Minimization problem with mixed constraints\n",
    "c2 = np.array([2, 3])\n",
    "A2 = np.array([[1, 1], [2, 1]])\n",
    "b2 = np.array([10, 16])\n",
    "senses2 = ['>=', '=']\n",
    "\n",
    "print(\"\\nExample 2: Minimization\")\n",
    "status2, x2, z2, tableau2 = tabular_simplex(c2, A2, b2, senses2, problem_type='min')\n",
    "\n",
    "print(f\"\\nFinal Status: {status2}\")\n",
    "if x2 is not None:\n",
    "    print(f\"Optimal solution: x = {x2}\")\n",
    "    print(f\"Optimal objective value: z = {z2}\")"
   ]
  },
  {
   "cell_type": "code",
   "execution_count": 4,
   "metadata": {},
   "outputs": [
    {
     "name": "stderr",
     "output_type": "stream",
     "text": [
      "Optimal solution violates at least one constraint\n"
     ]
    },
    {
     "name": "stdout",
     "output_type": "stream",
     "text": [
      "\n",
      "Example 3: Maximization with mixed constraints\n",
      "\n",
      "Problem in LaTeX format:\n",
      "\\begin{align*}\n",
      "\\max \\quad &1x_1 + 2x_2 \\\\\n",
      "\\text{subject to} \\quad &\n",
      "1x_1 + 1x_2 \\leq 4 \\\\\n",
      "1x_1 + 1x_2 \\geq 6 \\\\\n",
      "x_1, x_2 \\geq 0\n",
      "\\end{align*}\n",
      "\n",
      "Initial Problem Setup:\n",
      "Number of constraints (m): 2\n",
      "Number of variables (n): 2\n",
      "Objective function coefficients (c): [1 2]\n",
      "\n",
      "==================================================\n",
      "Iteration 1:\n",
      "Current tableau:\n",
      "[[ 1.  2.  0.  0.  0.]\n",
      " [ 1.  1.  1.  0.  4.]\n",
      " [-1. -1.  0. -1. -6.]]\n",
      "\n",
      "Problem is infeasible!\n",
      "\n",
      "Final Status: infeasible\n"
     ]
    }
   ],
   "source": [
    "# Example 3: Another Maximization problem with mixed constraints\n",
    "c3 = np.array([1, 2])\n",
    "A3 = np.array([[1, 1], [1, 1]])\n",
    "b3 = np.array([4, 6])\n",
    "senses3 = ['<=', '>=']\n",
    "\n",
    "print(\"\\nExample 3: Maximization with mixed constraints\")\n",
    "status3, x3, z3, tableau3 = tabular_simplex(c3, A3, b3, senses3, problem_type='max')\n",
    "\n",
    "print(f\"\\nFinal Status: {status3}\")\n",
    "if x3 is not None:\n",
    "    print(f\"Optimal solution: x = {x3}\")\n",
    "    print(f\"Optimal objective value: z = {z3}\")\n"
   ]
  },
  {
   "cell_type": "code",
   "execution_count": 5,
   "metadata": {},
   "outputs": [
    {
     "name": "stderr",
     "output_type": "stream",
     "text": [
      "Optimal solution violates at least one constraint\n"
     ]
    },
    {
     "name": "stdout",
     "output_type": "stream",
     "text": [
      "\n",
      "Example 4: Infeasible problem\n",
      "\n",
      "Problem in LaTeX format:\n",
      "\\begin{align*}\n",
      "\\max \\quad &1x_1 + 1x_2 \\\\\n",
      "\\text{subject to} \\quad &\n",
      "1x_1 + 1x_2 \\leq 1 \\\\\n",
      "-1x_1 + -1x_2 \\leq -1 \\\\\n",
      "x_1, x_2 \\geq 0\n",
      "\\end{align*}\n",
      "\n",
      "Initial Problem Setup:\n",
      "Number of constraints (m): 2\n",
      "Number of variables (n): 2\n",
      "Objective function coefficients (c): [1 1]\n",
      "\n",
      "==================================================\n",
      "Iteration 1:\n",
      "Current tableau:\n",
      "[[ 1.  1.  0.  0.  0.]\n",
      " [ 1.  1.  1.  0.  1.]\n",
      " [-1. -1.  0.  1. -1.]]\n",
      "\n",
      "Problem is infeasible!\n",
      "\n",
      "Final Status: infeasible\n"
     ]
    }
   ],
   "source": [
    "# Example 4: Infeasible problem\n",
    "c4 = np.array([1, 1])\n",
    "A4 = np.array([[1, 1], [-1, -1]])\n",
    "b4 = np.array([1, -1])\n",
    "senses4 = ['<=', '<=']\n",
    "\n",
    "print(\"\\nExample 4: Infeasible problem\")\n",
    "status4, x4, z4, tableau4 = tabular_simplex(c4, A4, b4, senses4, problem_type='max')\n",
    "\n",
    "print(f\"\\nFinal Status: {status4}\")\n",
    "if x4 is not None:\n",
    "    print(f\"Optimal solution: x = {x4}\")\n",
    "    print(f\"Optimal objective value: z = {z4}\")"
   ]
  },
  {
   "cell_type": "code",
   "execution_count": 6,
   "metadata": {},
   "outputs": [],
   "source": [
    "# Example 5: Unbounded problem"
   ]
  }
 ],
 "metadata": {
  "kernelspec": {
   "display_name": "Python 3",
   "language": "python",
   "name": "python3"
  },
  "language_info": {
   "codemirror_mode": {
    "name": "ipython",
    "version": 3
   },
   "file_extension": ".py",
   "mimetype": "text/x-python",
   "name": "python",
   "nbconvert_exporter": "python",
   "pygments_lexer": "ipython3",
   "version": "3.13.1"
  }
 },
 "nbformat": 4,
 "nbformat_minor": 2
}
